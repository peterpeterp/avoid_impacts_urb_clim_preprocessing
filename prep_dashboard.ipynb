{
 "cells": [
  {
   "cell_type": "code",
   "execution_count": 3,
   "id": "7e595347",
   "metadata": {
    "collapsed": false
   },
   "outputs": [
    {
     "name": "stderr",
     "output_type": "stream",
     "text": [
      "/home/ubuntu/anaconda3/lib/python3.8/site-packages/scipy/__init__.py:138: UserWarning: A NumPy version >=1.16.5 and <1.23.0 is required for this version of SciPy (detected version 1.24.4)\n",
      "  warnings.warn(f\"A NumPy version >={np_minversion} and <{np_maxversion} is required for this version of \"\n"
     ]
    }
   ],
   "source": [
    "import os,sys,glob\n",
    "import pandas as pd\n",
    "import numpy as np\n",
    "import xarray as xr\n",
    "import scipy\n",
    "from scipy import stats\n",
    "from scipy.special import erf\n",
    "import matplotlib.pyplot as plt\n",
    "import rioxarray\n",
    "\n",
    "%load_ext autoreload\n",
    "%autoreload 2"
   ]
  },
  {
   "cell_type": "code",
   "execution_count": 4,
   "id": "0a750f77",
   "metadata": {
    "collapsed": false
   },
   "outputs": [],
   "source": [
    "from urb_object import *"
   ]
  },
  {
   "cell_type": "code",
   "execution_count": 3,
   "id": "1b2e0b30",
   "metadata": {
    "collapsed": false
   },
   "outputs": [
    {
     "data": {
      "text/plain": [
       "256"
      ]
     },
     "execution_count": 3,
     "metadata": {},
     "output_type": "execute_result"
    }
   ],
   "source": [
    "city = 'Lissabon'\n",
    "os.system('mkdir ../../validation_plots/%s' %(city))\n",
    "os.system('mkdir ../../logs/%s' %(city))\n",
    "os.system('mkdir ../../data_avoid_impacts_urbclim/%s' %(city))"
   ]
  },
  {
   "cell_type": "code",
   "execution_count": 4,
   "id": "a1efb2aa",
   "metadata": {
    "collapsed": false
   },
   "outputs": [],
   "source": [
    "indicators = []\n",
    "for fl in sorted(glob.glob(data_path + 'Iconic_cities/Lissabon/*/*/*.csv')):\n",
    "    if 'topography' not in fl:\n",
    "        fl = fl.split('/')[-1].split('.')[0]\n",
    "        indicators.append('_'.join(fl.split('_')[:-1]))\n",
    "indicators = sorted(set(indicators))"
   ]
  },
  {
   "cell_type": "code",
   "execution_count": 1,
   "id": "4ad1a54f",
   "metadata": {
    "collapsed": false
   },
   "outputs": [],
   "source": [
    "indicators = [\n",
    "    #'HWMI',\n",
    "    #'LWH_int',\n",
    "    #'LWH_light',\n",
    "    #'LWH_mod',\n",
    "    #'MTCM',\n",
    "    #'MTWM',\n",
    "    'T2M_daily_mean_max',\n",
    "    'T2M_daily_mean_min',\n",
    "    'T2M_dayover25',\n",
    "    'T2M_dayover30',\n",
    "    'T2M_dayover35',\n",
    "    'T2M_mean',\n",
    "    'T2M_nightover20',\n",
    "    'T2M_nightover25',\n",
    "    'T2M_nightover28',\n",
    "    'WBGT_daily_mean_max',\n",
    "    'WBGT_dayover25',\n",
    "    'WBGT_dayover28',\n",
    "    'WBGT_dayover295',\n",
    "    'WBGT_dayover31',\n",
    "    'WBGT_hourover25',\n",
    "    'WBGT_hourover28',\n",
    "    'WBGT_hourover295',\n",
    "    'WBGT_hourover31',\n",
    "    'WBGT_nightover25',\n",
    "    'WBGT_nightover28',\n",
    "    #'cooling_degree_hours',\n",
    "    'heatwave_days',\n",
    "    'heatwave_days_lissabon'\n",
    "]"
   ]
  },
  {
   "cell_type": "code",
   "execution_count": 11,
   "id": "c35b53db",
   "metadata": {
    "collapsed": false
   },
   "outputs": [],
   "source": [
    "scenarios = ['CurPol','GS','SP']"
   ]
  },
  {
   "cell_type": "code",
   "execution_count": 12,
   "id": "a094f500",
   "metadata": {
    "collapsed": false
   },
   "outputs": [],
   "source": [
    "study_locations = list(pd.read_table(data_path + 'daily_time_series/Lissabon/WBGT_timeseries_CurPol_enspctl95_2100.csv', sep=',').columns[1:])\n",
    "dummy = rioxarray.open_rasterio(data_path + 'Iconic_cities/%s/Geotiffs/%s/%s_%s_%s_%s_EPSG4326.tif' \\\n",
    "                                                   %(city, 'CurPol', 'HWMI', '2021_2030', 'CurPol', 'ensmean'))\n",
    "study_location_dict = {}\n",
    "for l in study_locations:\n",
    "    t,q,lat,lon = l.split('_')\n",
    "    study_location_dict['%s_%s' %(t,q)] = {\n",
    "        'y' : np.argmin(np.abs(dummy.y.values - float(lat))), \n",
    "        'x' : np.argmin(np.abs(dummy.x.values - float(lon)))}\n",
    "\n",
    "study_locations = list(study_location_dict.keys()) + ['city_average']"
   ]
  },
  {
   "cell_type": "code",
   "execution_count": null,
   "id": "1e8a6852",
   "metadata": {
    "collapsed": false
   },
   "outputs": [],
   "source": [
    "for indicator in indicators:\n",
    "    out_file = '../../data_avoid_impacts_urbclim/%s/%s_%s.nc' %(city,city,indicator)\n",
    "    if os.path.isfile(out_file):\n",
    "        nc = xr.load_dataset(out_file)\n",
    "        out = nc['data']\n",
    "        approximation = nc['approximation']\n",
    "        nc.close()\n",
    "    else:\n",
    "        out = xr.DataArray(dims=['study_location','scenario','quantile', 'year'], \n",
    "                           coords=dict(study_location=study_locations, \n",
    "                                       scenario=scenarios,\n",
    "                                       quantile=[50,66,90],\n",
    "                                       year=np.arange(2025,2100,10,'int')))\n",
    "        approximation = xr.DataArray(dims=['study_location','scenario'], \n",
    "                               coords=dict(study_location=study_locations, \n",
    "                                       scenario=scenarios))\n",
    "        approximation_dict = {'norm':0, 'skewnorm':1, 'fail':np.nan}\n",
    "        approximation.attrs['explanation'] = str(approximation_dict)\n",
    "\n",
    "    for study_location in study_locations:\n",
    "        for scenario in scenarios:\n",
    "            print(study_location,scenario)\n",
    "            if np.any(np.isnan(out.loc[study_location, scenario])):\n",
    "                urb = urb_object(\n",
    "                    city=city, \n",
    "                    study_location=study_location,\n",
    "                    indicator=indicator,\n",
    "                    scenario=scenario)\n",
    "                urb.load_data(coords=study_location_dict[study_location])\n",
    "                urb.estimate_norm()\n",
    "                urb.estimate_skewnorm()\n",
    "                urb.plot()\n",
    "                urb.evaluate_results_and_store_percentiles()\n",
    "                urb.print_log()\n",
    "                approximation.loc[study_location, scenario] = approximation_dict[urb._approximation]\n",
    "                out.loc[study_location, scenario] = urb._out.values\n",
    "\n",
    "    xr.Dataset({'data':out, 'approximation':approximation}).to_netcdf(out_file)"
   ]
  },
  {
   "cell_type": "code",
   "execution_count": null,
   "id": "c3c5cdb8",
   "metadata": {
    "collapsed": false
   },
   "outputs": [],
   "source": []
  },
  {
   "cell_type": "code",
   "execution_count": null,
   "id": "db264102",
   "metadata": {
    "collapsed": false
   },
   "outputs": [],
   "source": []
  },
  {
   "cell_type": "code",
   "execution_count": null,
   "id": "dc90d1d4",
   "metadata": {
    "collapsed": false
   },
   "outputs": [],
   "source": []
  },
  {
   "cell_type": "code",
   "execution_count": 5,
   "id": "97856dbf",
   "metadata": {
    "collapsed": false
   },
   "outputs": [
    {
     "data": {
      "text/plain": [
       "['HWMI',\n",
       " 'LWH_int',\n",
       " 'LWH_light',\n",
       " 'LWH_mod',\n",
       " 'MTCM',\n",
       " 'MTWM',\n",
       " 'T2M_daily_mean_max',\n",
       " 'T2M_daily_mean_min',\n",
       " 'T2M_dayover25',\n",
       " 'T2M_dayover30',\n",
       " 'T2M_dayover35',\n",
       " 'T2M_mean',\n",
       " 'T2M_nightover20',\n",
       " 'T2M_nightover25',\n",
       " 'T2M_nightover28',\n",
       " 'WBGT_daily_mean_max',\n",
       " 'WBGT_dayover25',\n",
       " 'WBGT_dayover28',\n",
       " 'WBGT_dayover295',\n",
       " 'WBGT_dayover31',\n",
       " 'WBGT_hourover25',\n",
       " 'WBGT_hourover28',\n",
       " 'WBGT_hourover295',\n",
       " 'WBGT_hourover31',\n",
       " 'WBGT_nightover25',\n",
       " 'WBGT_nightover28',\n",
       " 'cooling_degree_hours',\n",
       " 'heatwave_days',\n",
       " 'heatwave_days_lissabon']"
      ]
     },
     "execution_count": 5,
     "metadata": {},
     "output_type": "execute_result"
    }
   ],
   "source": [
    "indicators"
   ]
  },
  {
   "cell_type": "code",
   "execution_count": 2,
   "id": "5bc98faf",
   "metadata": {
    "collapsed": false
   },
   "outputs": [
    {
     "ename": "NameError",
     "evalue": "name 'indicators' is not defined",
     "output_type": "error",
     "traceback": [
      "\u001b[0;31m---------------------------------------------------------------------------\u001b[0m",
      "\u001b[0;31mNameError\u001b[0m                                 Traceback (most recent call last)",
      "\u001b[0;32m<ipython-input-2-eeafab89e2c9>\u001b[0m in \u001b[0;36m<module>\u001b[0;34m\u001b[0m\n\u001b[0;32m----> 1\u001b[0;31m \u001b[0mprint\u001b[0m\u001b[0;34m(\u001b[0m\u001b[0;34m' '\u001b[0m\u001b[0;34m.\u001b[0m\u001b[0mjoin\u001b[0m\u001b[0;34m(\u001b[0m\u001b[0mindicators\u001b[0m\u001b[0;34m)\u001b[0m\u001b[0;34m)\u001b[0m\u001b[0;34m\u001b[0m\u001b[0;34m\u001b[0m\u001b[0m\n\u001b[0m",
      "\u001b[0;31mNameError\u001b[0m: name 'indicators' is not defined"
     ]
    }
   ],
   "source": [
    "print(' '.join(indicators))"
   ]
  },
  {
   "cell_type": "code",
   "execution_count": 9,
   "id": "28e4f030",
   "metadata": {
    "collapsed": false
   },
   "outputs": [
    {
     "name": "stdout",
     "output_type": "stream",
     "text": [
      "nohup python prep_dashboard.py --city Lissabon --indicator HWMI > ../python_logs/Lissabon_HWMI.log 2>&1 &\n",
      "nohup python prep_dashboard.py --city Lissabon --indicator LWH_int > ../python_logs/Lissabon_LWH_int.log 2>&1 &\n",
      "nohup python prep_dashboard.py --city Lissabon --indicator LWH_light > ../python_logs/Lissabon_LWH_light.log 2>&1 &\n",
      "nohup python prep_dashboard.py --city Lissabon --indicator LWH_mod > ../python_logs/Lissabon_LWH_mod.log 2>&1 &\n",
      "nohup python prep_dashboard.py --city Lissabon --indicator MTCM > ../python_logs/Lissabon_MTCM.log 2>&1 &\n",
      "nohup python prep_dashboard.py --city Lissabon --indicator MTWM > ../python_logs/Lissabon_MTWM.log 2>&1 &\n",
      "nohup python prep_dashboard.py --city Lissabon --indicator T2M_daily_mean_max > ../python_logs/Lissabon_T2M_daily_mean_max.log 2>&1 &\n",
      "nohup python prep_dashboard.py --city Lissabon --indicator T2M_daily_mean_min > ../python_logs/Lissabon_T2M_daily_mean_min.log 2>&1 &\n",
      "nohup python prep_dashboard.py --city Lissabon --indicator T2M_dayover25 > ../python_logs/Lissabon_T2M_dayover25.log 2>&1 &\n",
      "nohup python prep_dashboard.py --city Lissabon --indicator T2M_dayover30 > ../python_logs/Lissabon_T2M_dayover30.log 2>&1 &\n",
      "nohup python prep_dashboard.py --city Lissabon --indicator T2M_dayover35 > ../python_logs/Lissabon_T2M_dayover35.log 2>&1 &\n",
      "nohup python prep_dashboard.py --city Lissabon --indicator T2M_mean > ../python_logs/Lissabon_T2M_mean.log 2>&1 &\n",
      "nohup python prep_dashboard.py --city Lissabon --indicator T2M_nightover20 > ../python_logs/Lissabon_T2M_nightover20.log 2>&1 &\n",
      "nohup python prep_dashboard.py --city Lissabon --indicator T2M_nightover25 > ../python_logs/Lissabon_T2M_nightover25.log 2>&1 &\n",
      "nohup python prep_dashboard.py --city Lissabon --indicator T2M_nightover28 > ../python_logs/Lissabon_T2M_nightover28.log 2>&1 &\n",
      "nohup python prep_dashboard.py --city Lissabon --indicator WBGT_daily_mean_max > ../python_logs/Lissabon_WBGT_daily_mean_max.log 2>&1 &\n",
      "nohup python prep_dashboard.py --city Lissabon --indicator WBGT_dayover25 > ../python_logs/Lissabon_WBGT_dayover25.log 2>&1 &\n",
      "nohup python prep_dashboard.py --city Lissabon --indicator WBGT_dayover28 > ../python_logs/Lissabon_WBGT_dayover28.log 2>&1 &\n",
      "nohup python prep_dashboard.py --city Lissabon --indicator WBGT_dayover295 > ../python_logs/Lissabon_WBGT_dayover295.log 2>&1 &\n",
      "nohup python prep_dashboard.py --city Lissabon --indicator WBGT_dayover31 > ../python_logs/Lissabon_WBGT_dayover31.log 2>&1 &\n",
      "nohup python prep_dashboard.py --city Lissabon --indicator WBGT_hourover25 > ../python_logs/Lissabon_WBGT_hourover25.log 2>&1 &\n",
      "nohup python prep_dashboard.py --city Lissabon --indicator WBGT_hourover28 > ../python_logs/Lissabon_WBGT_hourover28.log 2>&1 &\n",
      "nohup python prep_dashboard.py --city Lissabon --indicator WBGT_hourover295 > ../python_logs/Lissabon_WBGT_hourover295.log 2>&1 &\n",
      "nohup python prep_dashboard.py --city Lissabon --indicator WBGT_hourover31 > ../python_logs/Lissabon_WBGT_hourover31.log 2>&1 &\n",
      "nohup python prep_dashboard.py --city Lissabon --indicator WBGT_nightover25 > ../python_logs/Lissabon_WBGT_nightover25.log 2>&1 &\n",
      "nohup python prep_dashboard.py --city Lissabon --indicator WBGT_nightover28 > ../python_logs/Lissabon_WBGT_nightover28.log 2>&1 &\n",
      "nohup python prep_dashboard.py --city Lissabon --indicator cooling_degree_hours > ../python_logs/Lissabon_cooling_degree_hours.log 2>&1 &\n",
      "nohup python prep_dashboard.py --city Lissabon --indicator heatwave_days > ../python_logs/Lissabon_heatwave_days.log 2>&1 &\n",
      "nohup python prep_dashboard.py --city Lissabon --indicator heatwave_days_lissabon > ../python_logs/Lissabon_heatwave_days_lissabon.log 2>&1 &\n"
     ]
    }
   ],
   "source": [
    "for indicator in indicators:\n",
    "    print('nohup python prep_dashboard.py --city Lissabon --indicator %s > ../python_logs/%s_%s.log 2>&1 &' %(indicator,city,indicator))"
   ]
  },
  {
   "cell_type": "code",
   "execution_count": null,
   "id": "55b8bcf1",
   "metadata": {
    "collapsed": false
   },
   "outputs": [],
   "source": []
  }
 ],
 "metadata": {
  "kernelspec": {
   "argv": [
    "/home/ubuntu/anaconda3/bin/python",
    "-m",
    "ipykernel_launcher",
    "-f",
    "{connection_file}"
   ],
   "display_name": "Python 3",
   "env": null,
   "interrupt_mode": "signal",
   "language": "python",
   "metadata": null,
   "name": "python3"
  },
  "language_info": {
   "codemirror_mode": {
    "name": "ipython",
    "version": 3
   },
   "file_extension": ".py",
   "mimetype": "text/x-python",
   "name": "python",
   "nbconvert_exporter": "python",
   "pygments_lexer": "ipython3",
   "version": "3.8.8"
  },
  "name": "prep_dashboard.ipynb"
 },
 "nbformat": 4,
 "nbformat_minor": 5
}
