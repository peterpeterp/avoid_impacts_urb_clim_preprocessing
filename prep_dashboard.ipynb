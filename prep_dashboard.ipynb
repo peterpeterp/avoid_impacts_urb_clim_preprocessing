{
 "cells": [
  {
   "cell_type": "code",
   "execution_count": 5,
   "id": "1e8e47e3-e67e-41ad-be1c-2ce737b2ed5f",
   "metadata": {},
   "outputs": [
    {
     "name": "stderr",
     "output_type": "stream",
     "text": [
      "/home/ubuntu/anaconda3/lib/python3.8/site-packages/scipy/__init__.py:138: UserWarning: A NumPy version >=1.16.5 and <1.23.0 is required for this version of SciPy (detected version 1.24.4)\n",
      "  warnings.warn(f\"A NumPy version >={np_minversion} and <{np_maxversion} is required for this version of \"\n"
     ]
    }
   ],
   "source": [
    "import os,sys,glob\n",
    "import pandas as pd\n",
    "import numpy as np\n",
    "import xarray as xr\n",
    "import scipy\n",
    "from scipy import stats\n",
    "from scipy.special import erf\n",
    "import matplotlib.pyplot as plt\n",
    "import rioxarray\n",
    "\n",
    "%load_ext autoreload\n",
    "%autoreload 2"
   ]
  },
  {
   "cell_type": "code",
   "execution_count": 6,
   "id": "f73278b7-03a4-488b-8d0d-b8a4f80a5c69",
   "metadata": {},
   "outputs": [],
   "source": [
    "from urb_object import *"
   ]
  },
  {
   "cell_type": "code",
   "execution_count": 7,
   "id": "e3daa8bf-192d-4a60-9fe7-505609ccc864",
   "metadata": {},
   "outputs": [
    {
     "data": {
      "text/plain": [
       "256"
      ]
     },
     "execution_count": 7,
     "metadata": {},
     "output_type": "execute_result"
    }
   ],
   "source": [
    "city = 'Lissabon'\n",
    "os.system('mkdir ../../validation_plots/%s' %(city))\n",
    "os.system('mkdir ../../logs/%s' %(city))\n",
    "os.system('mkdir ../../data_avoid_impacts_urbclim/%s' %(city))"
   ]
  },
  {
   "cell_type": "code",
   "execution_count": 8,
   "id": "ea58c1b6-4bea-4d76-8296-b9a355a33026",
   "metadata": {},
   "outputs": [],
   "source": [
    "indicators = []\n",
    "for fl in sorted(glob.glob(data_path + 'Iconic_cities/Lissabon/*/*/*.csv')):\n",
    "    if 'topography' not in fl:\n",
    "        fl = fl.split('/')[-1].split('.')[0]\n",
    "        indicators.append('_'.join(fl.split('_')[:-1]))\n",
    "indicators = sorted(set(indicators))"
   ]
  },
  {
   "cell_type": "code",
   "execution_count": 1,
   "id": "00fd26e9-159b-4ef7-85f2-c6ca3e68481d",
   "metadata": {},
   "outputs": [],
   "source": [
    "indicators = [\n",
    "    #'HWMI',\n",
    "    #'LWH_int',\n",
    "    #'LWH_light',\n",
    "    #'LWH_mod',\n",
    "    #'MTCM',\n",
    "    #'MTWM',\n",
    "    'T2M_daily_mean_max',\n",
    "    'T2M_daily_mean_min',\n",
    "    'T2M_dayover25',\n",
    "    'T2M_dayover30',\n",
    "    'T2M_dayover35',\n",
    "    'T2M_mean',\n",
    "    'T2M_nightover20',\n",
    "    'T2M_nightover25',\n",
    "    'T2M_nightover28',\n",
    "    'WBGT_daily_mean_max',\n",
    "    'WBGT_dayover25',\n",
    "    'WBGT_dayover28',\n",
    "    'WBGT_dayover295',\n",
    "    'WBGT_dayover31',\n",
    "    'WBGT_hourover25',\n",
    "    'WBGT_hourover28',\n",
    "    'WBGT_hourover295',\n",
    "    'WBGT_hourover31',\n",
    "    'WBGT_nightover25',\n",
    "    'WBGT_nightover28',\n",
    "    #'cooling_degree_hours',\n",
    "    'heatwave_days',\n",
    "    'heatwave_days_lissabon'\n",
    "]"
   ]
  },
  {
   "cell_type": "code",
   "execution_count": 11,
   "id": "f3643dc7-5649-4303-99c9-d05b2eeda3ce",
   "metadata": {},
   "outputs": [],
   "source": [
    "scenarios = ['CurPol','GS','SP']"
   ]
  },
  {
   "cell_type": "code",
   "execution_count": 12,
   "id": "bf520d83-25a5-49a0-a1b7-1dbe4d633f16",
   "metadata": {},
   "outputs": [],
   "source": [
    "study_locations = list(pd.read_table(data_path + 'daily_time_series/Lissabon/WBGT_timeseries_CurPol_enspctl95_2100.csv', sep=',').columns[1:])\n",
    "dummy = rioxarray.open_rasterio(data_path + 'Iconic_cities/%s/Geotiffs/%s/%s_%s_%s_%s_EPSG4326.tif' \\\n",
    "                                                   %(city, 'CurPol', 'HWMI', '2021_2030', 'CurPol', 'ensmean'))\n",
    "study_location_dict = {}\n",
    "for l in study_locations:\n",
    "    t,q,lat,lon = l.split('_')\n",
    "    study_location_dict['%s_%s' %(t,q)] = {\n",
    "        'y' : np.argmin(np.abs(dummy.y.values - float(lat))), \n",
    "        'x' : np.argmin(np.abs(dummy.x.values - float(lon)))}\n",
    "\n",
    "study_locations = list(study_location_dict.keys()) + ['city_average']"
   ]
  },
  {
   "cell_type": "code",
   "execution_count": null,
   "id": "65b30ae6-84ad-4ed9-96ea-44ed2aa382a7",
   "metadata": {},
   "outputs": [],
   "source": [
    "for indicator in indicators:\n",
    "    out_file = '../../data_avoid_impacts_urbclim/%s/%s_%s.nc' %(city,city,indicator)\n",
    "    if os.path.isfile(out_file):\n",
    "        nc = xr.load_dataset(out_file)\n",
    "        out = nc['data']\n",
    "        approximation = nc['approximation']\n",
    "        nc.close()\n",
    "    else:\n",
    "        out = xr.DataArray(dims=['study_location','scenario','quantile', 'year'], \n",
    "                           coords=dict(study_location=study_locations, \n",
    "                                       scenario=scenarios,\n",
    "                                       quantile=[50,66,90],\n",
    "                                       year=np.arange(2025,2100,10,'int')))\n",
    "        approximation = xr.DataArray(dims=['study_location','scenario'], \n",
    "                               coords=dict(study_location=study_locations, \n",
    "                                       scenario=scenarios))\n",
    "        approximation_dict = {'norm':0, 'skewnorm':1, 'fail':np.nan}\n",
    "        approximation.attrs['explanation'] = str(approximation_dict)\n",
    "\n",
    "    for study_location in study_locations:\n",
    "        for scenario in scenarios:\n",
    "            print(study_location,scenario)\n",
    "            if np.any(np.isnan(out.loc[study_location, scenario])):\n",
    "                urb = urb_object(\n",
    "                    city=city, \n",
    "                    study_location=study_location,\n",
    "                    indicator=indicator,\n",
    "                    scenario=scenario)\n",
    "                urb.load_data(coords=study_location_dict[study_location])\n",
    "                urb.estimate_norm()\n",
    "                urb.estimate_skewnorm()\n",
    "                urb.plot()\n",
    "                urb.evaluate_results_and_store_percentiles()\n",
    "                urb.print_log()\n",
    "                approximation.loc[study_location, scenario] = approximation_dict[urb._approximation]\n",
    "                out.loc[study_location, scenario] = urb._out.values\n",
    "\n",
    "    xr.Dataset({'data':out, 'approximation':approximation}).to_netcdf(out_file)"
   ]
  },
  {
   "cell_type": "code",
   "execution_count": null,
   "id": "5fe3b828-5298-4146-8cc2-969915f27c4e",
   "metadata": {},
   "outputs": [],
   "source": []
  },
  {
   "cell_type": "code",
   "execution_count": null,
   "id": "4e921b57-cc47-4721-ad27-5368cc105d1e",
   "metadata": {},
   "outputs": [],
   "source": []
  },
  {
   "cell_type": "code",
   "execution_count": null,
   "id": "584b64c8-3115-49e8-b76e-1d28ad34b391",
   "metadata": {},
   "outputs": [],
   "source": []
  },
  {
   "cell_type": "code",
   "execution_count": null,
   "id": "cee22085-96f6-4096-8555-004ad3d0ea41",
   "metadata": {},
   "outputs": [],
   "source": []
  },
  {
   "cell_type": "code",
   "execution_count": 2,
   "id": "6c98630c-f736-423c-aba0-7fcfd5e11efb",
   "metadata": {},
   "outputs": [
    {
     "name": "stdout",
     "output_type": "stream",
     "text": [
      "T2M_daily_mean_max T2M_daily_mean_min T2M_dayover25 T2M_dayover30 T2M_dayover35 T2M_mean T2M_nightover20 T2M_nightover25 T2M_nightover28 WBGT_daily_mean_max WBGT_dayover25 WBGT_dayover28 WBGT_dayover295 WBGT_dayover31 WBGT_hourover25 WBGT_hourover28 WBGT_hourover295 WBGT_hourover31 WBGT_nightover25 WBGT_nightover28 heatwave_days heatwave_days_lissabon\n"
     ]
    }
   ],
   "source": [
    "print(' '.join(indicators))"
   ]
  },
  {
   "cell_type": "code",
   "execution_count": 9,
   "id": "8698d2c3-3698-47c9-97fd-6cbf84cf7d48",
   "metadata": {},
   "outputs": [
    {
     "name": "stdout",
     "output_type": "stream",
     "text": [
      "nohup python prep_dashboard.py --city Lissabon --indicator HWMI > ../python_logs/Lissabon_HWMI.log 2>&1 &\n",
      "nohup python prep_dashboard.py --city Lissabon --indicator LWH_int > ../python_logs/Lissabon_LWH_int.log 2>&1 &\n",
      "nohup python prep_dashboard.py --city Lissabon --indicator LWH_light > ../python_logs/Lissabon_LWH_light.log 2>&1 &\n",
      "nohup python prep_dashboard.py --city Lissabon --indicator LWH_mod > ../python_logs/Lissabon_LWH_mod.log 2>&1 &\n",
      "nohup python prep_dashboard.py --city Lissabon --indicator MTCM > ../python_logs/Lissabon_MTCM.log 2>&1 &\n",
      "nohup python prep_dashboard.py --city Lissabon --indicator MTWM > ../python_logs/Lissabon_MTWM.log 2>&1 &\n",
      "nohup python prep_dashboard.py --city Lissabon --indicator T2M_daily_mean_max > ../python_logs/Lissabon_T2M_daily_mean_max.log 2>&1 &\n",
      "nohup python prep_dashboard.py --city Lissabon --indicator T2M_daily_mean_min > ../python_logs/Lissabon_T2M_daily_mean_min.log 2>&1 &\n",
      "nohup python prep_dashboard.py --city Lissabon --indicator T2M_dayover25 > ../python_logs/Lissabon_T2M_dayover25.log 2>&1 &\n",
      "nohup python prep_dashboard.py --city Lissabon --indicator T2M_dayover30 > ../python_logs/Lissabon_T2M_dayover30.log 2>&1 &\n",
      "nohup python prep_dashboard.py --city Lissabon --indicator T2M_dayover35 > ../python_logs/Lissabon_T2M_dayover35.log 2>&1 &\n",
      "nohup python prep_dashboard.py --city Lissabon --indicator T2M_mean > ../python_logs/Lissabon_T2M_mean.log 2>&1 &\n",
      "nohup python prep_dashboard.py --city Lissabon --indicator T2M_nightover20 > ../python_logs/Lissabon_T2M_nightover20.log 2>&1 &\n",
      "nohup python prep_dashboard.py --city Lissabon --indicator T2M_nightover25 > ../python_logs/Lissabon_T2M_nightover25.log 2>&1 &\n",
      "nohup python prep_dashboard.py --city Lissabon --indicator T2M_nightover28 > ../python_logs/Lissabon_T2M_nightover28.log 2>&1 &\n",
      "nohup python prep_dashboard.py --city Lissabon --indicator WBGT_daily_mean_max > ../python_logs/Lissabon_WBGT_daily_mean_max.log 2>&1 &\n",
      "nohup python prep_dashboard.py --city Lissabon --indicator WBGT_dayover25 > ../python_logs/Lissabon_WBGT_dayover25.log 2>&1 &\n",
      "nohup python prep_dashboard.py --city Lissabon --indicator WBGT_dayover28 > ../python_logs/Lissabon_WBGT_dayover28.log 2>&1 &\n",
      "nohup python prep_dashboard.py --city Lissabon --indicator WBGT_dayover295 > ../python_logs/Lissabon_WBGT_dayover295.log 2>&1 &\n",
      "nohup python prep_dashboard.py --city Lissabon --indicator WBGT_dayover31 > ../python_logs/Lissabon_WBGT_dayover31.log 2>&1 &\n",
      "nohup python prep_dashboard.py --city Lissabon --indicator WBGT_hourover25 > ../python_logs/Lissabon_WBGT_hourover25.log 2>&1 &\n",
      "nohup python prep_dashboard.py --city Lissabon --indicator WBGT_hourover28 > ../python_logs/Lissabon_WBGT_hourover28.log 2>&1 &\n",
      "nohup python prep_dashboard.py --city Lissabon --indicator WBGT_hourover295 > ../python_logs/Lissabon_WBGT_hourover295.log 2>&1 &\n",
      "nohup python prep_dashboard.py --city Lissabon --indicator WBGT_hourover31 > ../python_logs/Lissabon_WBGT_hourover31.log 2>&1 &\n",
      "nohup python prep_dashboard.py --city Lissabon --indicator WBGT_nightover25 > ../python_logs/Lissabon_WBGT_nightover25.log 2>&1 &\n",
      "nohup python prep_dashboard.py --city Lissabon --indicator WBGT_nightover28 > ../python_logs/Lissabon_WBGT_nightover28.log 2>&1 &\n",
      "nohup python prep_dashboard.py --city Lissabon --indicator cooling_degree_hours > ../python_logs/Lissabon_cooling_degree_hours.log 2>&1 &\n",
      "nohup python prep_dashboard.py --city Lissabon --indicator heatwave_days > ../python_logs/Lissabon_heatwave_days.log 2>&1 &\n",
      "nohup python prep_dashboard.py --city Lissabon --indicator heatwave_days_lissabon > ../python_logs/Lissabon_heatwave_days_lissabon.log 2>&1 &\n"
     ]
    }
   ],
   "source": [
    "for indicator in indicators:\n",
    "    print('nohup python prep_dashboard.py --city Lissabon --indicator %s > ../python_logs/%s_%s.log 2>&1 &' %(indicator,city,indicator))"
   ]
  },
  {
   "cell_type": "code",
   "execution_count": null,
   "id": "8b414b57-55c1-4296-8614-12f487a2250d",
   "metadata": {},
   "outputs": [],
   "source": []
  }
 ],
 "metadata": {
  "kernelspec": {
   "display_name": "Python 3",
   "language": "python",
   "name": "python3"
  },
  "language_info": {
   "codemirror_mode": {
    "name": "ipython",
    "version": 3
   },
   "file_extension": ".py",
   "mimetype": "text/x-python",
   "name": "python",
   "nbconvert_exporter": "python",
   "pygments_lexer": "ipython3",
   "version": "3.8.8"
  }
 },
 "nbformat": 4,
 "nbformat_minor": 5
}
