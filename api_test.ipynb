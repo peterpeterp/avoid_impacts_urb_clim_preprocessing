{
 "cells": [
  {
   "cell_type": "code",
   "execution_count": 1,
   "id": "3228be1e-0590-4b4b-a553-d63c0555ab50",
   "metadata": {},
   "outputs": [
    {
     "name": "stderr",
     "output_type": "stream",
     "text": [
      "/home/ubuntu/anaconda3/lib/python3.8/site-packages/scipy/__init__.py:138: UserWarning: A NumPy version >=1.16.5 and <1.23.0 is required for this version of SciPy (detected version 1.24.4)\n",
      "  warnings.warn(f\"A NumPy version >={np_minversion} and <{np_maxversion} is required for this version of \"\n"
     ]
    }
   ],
   "source": [
    "import os,sys,glob\n",
    "import pandas as pd\n",
    "import numpy as np\n",
    "import xarray as xr\n",
    "import scipy\n",
    "from scipy import stats\n",
    "from scipy.special import erf\n",
    "import matplotlib.pyplot as plt\n",
    "\n",
    "os.chdir('/home/peterp/provide/provide')\n",
    "\n",
    "from peter.avoid_impacts_urbclim import avoid_impacts_urbclim\n",
    "\n",
    "%load_ext autoreload\n",
    "%autoreload 2"
   ]
  },
  {
   "cell_type": "code",
   "execution_count": 5,
   "id": "54581775-6ae8-47e4-b4f6-d54aad6a3435",
   "metadata": {},
   "outputs": [
    {
     "data": {
      "text/plain": [
       "{'range_of_interest': [0.34587126268304996, 15.042275779939004],\n",
       " 'emissions': -9999,\n",
       " 'scenarios': [{'uid': 'CurPol',\n",
       "   'study_locations': [{'uid': 'urban_5th',\n",
       "     'year': None,\n",
       "     'likely': False,\n",
       "     'avoidable': True},\n",
       "    {'uid': 'urban_50th', 'year': None, 'likely': False, 'avoidable': True},\n",
       "    {'uid': 'urban_95th', 'year': 2060, 'likely': True, 'avoidable': True},\n",
       "    {'uid': 'grass_5th', 'year': None, 'likely': False, 'avoidable': True},\n",
       "    {'uid': 'grass_50th', 'year': None, 'likely': False, 'avoidable': True},\n",
       "    {'uid': 'grass_95th', 'year': None, 'likely': False, 'avoidable': True}]},\n",
       "  {'uid': 'GS',\n",
       "   'study_locations': [{'uid': 'urban_5th',\n",
       "     'year': None,\n",
       "     'likely': False,\n",
       "     'avoidable': True},\n",
       "    {'uid': 'urban_50th', 'year': None, 'likely': False, 'avoidable': True},\n",
       "    {'uid': 'urban_95th', 'year': 2090, 'likely': True, 'avoidable': True},\n",
       "    {'uid': 'grass_5th', 'year': None, 'likely': False, 'avoidable': True},\n",
       "    {'uid': 'grass_50th', 'year': None, 'likely': False, 'avoidable': True},\n",
       "    {'uid': 'grass_95th', 'year': None, 'likely': False, 'avoidable': True}]},\n",
       "  {'uid': 'SP',\n",
       "   'study_locations': [{'uid': 'urban_5th',\n",
       "     'year': None,\n",
       "     'likely': False,\n",
       "     'avoidable': True},\n",
       "    {'uid': 'urban_50th', 'year': None, 'likely': False, 'avoidable': True},\n",
       "    {'uid': 'urban_95th', 'year': None, 'likely': False, 'avoidable': True},\n",
       "    {'uid': 'grass_5th', 'year': None, 'likely': False, 'avoidable': True},\n",
       "    {'uid': 'grass_50th', 'year': None, 'likely': False, 'avoidable': True},\n",
       "    {'uid': 'grass_95th', 'year': None, 'likely': False, 'avoidable': True}]}],\n",
       " 'global_mean_temperature': 2.0}"
      ]
     },
     "execution_count": 5,
     "metadata": {},
     "output_type": "execute_result"
    }
   ],
   "source": [
    "u = avoid_impacts_urbclim(indicator='T2M_nightover25',\n",
    "                          level_of_impact=10,\n",
    "                          certainty_level='likely',\n",
    "                          city='Lissabon',\n",
    "                          study_location='urban_95th')\n",
    "u.prepare_response()\n",
    "u._out"
   ]
  },
  {
   "cell_type": "code",
   "execution_count": null,
   "id": "4a55a0ad-d817-4509-ae1a-fa0262b256e3",
   "metadata": {},
   "outputs": [],
   "source": []
  },
  {
   "cell_type": "code",
   "execution_count": null,
   "id": "5f0c5e2a-bef6-45f9-87c3-b9aea243ff22",
   "metadata": {},
   "outputs": [],
   "source": []
  }
 ],
 "metadata": {
  "kernelspec": {
   "display_name": "Python 3",
   "language": "python",
   "name": "python3"
  },
  "language_info": {
   "codemirror_mode": {
    "name": "ipython",
    "version": 3
   },
   "file_extension": ".py",
   "mimetype": "text/x-python",
   "name": "python",
   "nbconvert_exporter": "python",
   "pygments_lexer": "ipython3",
   "version": "3.8.8"
  }
 },
 "nbformat": 4,
 "nbformat_minor": 5
}
