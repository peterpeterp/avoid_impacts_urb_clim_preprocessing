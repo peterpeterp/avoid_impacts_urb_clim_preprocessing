{
 "cells": [
  {
   "cell_type": "code",
   "execution_count": 5,
   "id": "3228be1e-0590-4b4b-a553-d63c0555ab50",
   "metadata": {},
   "outputs": [
    {
     "name": "stdout",
     "output_type": "stream",
     "text": [
      "The autoreload extension is already loaded. To reload it, use:\n",
      "  %reload_ext autoreload\n"
     ]
    }
   ],
   "source": [
    "import os,sys,glob\n",
    "import pandas as pd\n",
    "import numpy as np\n",
    "import xarray as xr\n",
    "import scipy\n",
    "from scipy import stats\n",
    "from scipy.special import erf\n",
    "import matplotlib.pyplot as plt\n",
    "\n",
    "os.chdir('/home/peterp/provide/provide')\n",
    "\n",
    "from peter.avoid_impacts_urbclim import avoid_impacts_urbclim\n",
    "\n",
    "%load_ext autoreload\n",
    "%autoreload 2"
   ]
  },
  {
   "cell_type": "code",
   "execution_count": 44,
   "id": "54581775-6ae8-47e4-b4f6-d54aad6a3435",
   "metadata": {},
   "outputs": [
    {
     "data": {
      "text/plain": [
       "{'range_of_interest': [21.831056159849833, 24.713365498758513],\n",
       " 'emissions': -9999,\n",
       " 'scenarios': [{'uid': 'CurPol',\n",
       "   'study_locations': [{'uid': 'urban_5th',\n",
       "     'year': 2090,\n",
       "     'likely': True,\n",
       "     'avoidable': True},\n",
       "    {'uid': 'urban_50th', 'year': 2060, 'likely': True, 'avoidable': True},\n",
       "    {'uid': 'urban_95th', 'year': 2040, 'likely': True, 'avoidable': True},\n",
       "    {'uid': 'grass_5th', 'year': None, 'likely': False, 'avoidable': True},\n",
       "    {'uid': 'grass_50th', 'year': 2050, 'likely': True, 'avoidable': True},\n",
       "    {'uid': 'grass_95th', 'year': 2050, 'likely': True, 'avoidable': True}]},\n",
       "  {'uid': 'GS',\n",
       "   'study_locations': [{'uid': 'urban_5th',\n",
       "     'year': None,\n",
       "     'likely': False,\n",
       "     'avoidable': True},\n",
       "    {'uid': 'urban_50th', 'year': None, 'likely': False, 'avoidable': True},\n",
       "    {'uid': 'urban_95th', 'year': 2070, 'likely': True, 'avoidable': True},\n",
       "    {'uid': 'grass_5th', 'year': None, 'likely': False, 'avoidable': True},\n",
       "    {'uid': 'grass_50th', 'year': None, 'likely': False, 'avoidable': True},\n",
       "    {'uid': 'grass_95th', 'year': None, 'likely': False, 'avoidable': True}]},\n",
       "  {'uid': 'SP',\n",
       "   'study_locations': [{'uid': 'urban_5th',\n",
       "     'year': None,\n",
       "     'likely': False,\n",
       "     'avoidable': True},\n",
       "    {'uid': 'urban_50th', 'year': None, 'likely': False, 'avoidable': True},\n",
       "    {'uid': 'urban_95th', 'year': None, 'likely': False, 'avoidable': True},\n",
       "    {'uid': 'grass_5th', 'year': None, 'likely': False, 'avoidable': True},\n",
       "    {'uid': 'grass_50th', 'year': None, 'likely': False, 'avoidable': True},\n",
       "    {'uid': 'grass_95th', 'year': None, 'likely': False, 'avoidable': True}]}],\n",
       " 'global_mean_temperature': 1.6}"
      ]
     },
     "execution_count": 44,
     "metadata": {},
     "output_type": "execute_result"
    }
   ],
   "source": [
    "u = avoid_impacts_urbclim(indicator='T2M_daily_mean_max',\n",
    "                          level_of_impact=23.5,\n",
    "                          certainty_level='likely',\n",
    "                          city='Lissabon',\n",
    "                          study_location='urban_95th')\n",
    "u.prepare_response()\n",
    "u._out"
   ]
  },
  {
   "cell_type": "code",
   "execution_count": null,
   "id": "4a55a0ad-d817-4509-ae1a-fa0262b256e3",
   "metadata": {},
   "outputs": [],
   "source": []
  },
  {
   "cell_type": "code",
   "execution_count": null,
   "id": "5f0c5e2a-bef6-45f9-87c3-b9aea243ff22",
   "metadata": {},
   "outputs": [],
   "source": []
  }
 ],
 "metadata": {
  "kernelspec": {
   "display_name": "Python 3",
   "language": "python",
   "name": "python3"
  },
  "language_info": {
   "codemirror_mode": {
    "name": "ipython",
    "version": 3
   },
   "file_extension": ".py",
   "mimetype": "text/x-python",
   "name": "python",
   "nbconvert_exporter": "python",
   "pygments_lexer": "ipython3",
   "version": "3.8.8"
  }
 },
 "nbformat": 4,
 "nbformat_minor": 5
}
